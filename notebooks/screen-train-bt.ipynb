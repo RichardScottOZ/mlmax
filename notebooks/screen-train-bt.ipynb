{
 "cells": [
  {
   "cell_type": "markdown",
   "metadata": {},
   "source": [
    "This notebook screens that it can perform *train* -> *register model* -> *batch transform* -> *delete model*.\n",
    "\n",
    "It is recommended to run this notebook in one go without a kernel restart, as the training and batch-transform jobs are short by design (i.e., +/- 5min).\n",
    "\n",
    "If there's a need to restart the kernel after the training job, then make sure to set the `train_job_name` variable after the training section."
   ]
  },
  {
   "cell_type": "code",
   "execution_count": null,
   "metadata": {},
   "outputs": [],
   "source": [
    "%matplotlib inline\n",
    "%load_ext autoreload\n",
    "%autoreload 2\n",
    "%config InlineBackend.figure_format = 'retina'\n",
    "\n",
    "import pandas as pd\n",
    "import numpy as np\n",
    "import sagemaker as sm\n",
    "from sagemaker import KMeans, KMeansModel\n",
    "\n",
    "import smconfig\n",
    "\n",
    "# Configuration of this screening test.\n",
    "sess = sm.Session()\n",
    "sm_kwargs = smconfig.SmKwargs(sm.get_execution_role())\n",
    "s3_input_path = f's3://{smconfig.s3_bucket}/kmeans-input'\n",
    "s3_sagemaker_path = f's3://{smconfig.s3_bucket}/sagemaker\n",
    "\n",
    "# Enforce blocking API to screen whether this role has permissions to\n",
    "# Describe{Training,Transform}Job.\n",
    "block_notebook_while_training = True\n",
    "\n",
    "# Set env vars for ! or %%.\n",
    "%set_env BUCKET=$smconfig.s3_bucket\n",
    "%set_env S3_INPUT_PATH=$s3_input_path\n",
    "%set_env S3_SAGEMAKER_PATH=$s3_sagemaker_path"
   ]
  },
  {
   "cell_type": "markdown",
   "metadata": {},
   "source": [
    "# Training job"
   ]
  },
  {
   "cell_type": "code",
   "execution_count": null,
   "metadata": {},
   "outputs": [],
   "source": [
    "estimator = KMeans(\n",
    "    k=2,\n",
    "    epochs=10,\n",
    "    data_location=s3_input_path,\n",
    "    output_path=sagemaker_output_path,\n",
    "    instance_count=1,\n",
    "    instance_type='ml.m5.large',\n",
    "    sagemaker_session=sess,\n",
    "    **sm_kwargs.train,\n",
    ")\n",
    "\n",
    "# Generate synthetic input data as protobuf files on S3.\n",
    "# NOTE: SageMaker K-Means algo REQUIRES float32.\n",
    "train_input = estimator.record_set(\n",
    "    np.random.rand(100, 8).astype('float32')\n",
    ")\n",
    "\n",
    "# Submit a training job.\n",
    "estimator.fit(train_input, wait=block_notebook_while_training)\n",
    "\n",
    "# Track the jobname for subsequent CloudWatch CLI operations.\n",
    "%set_env TRAIN_JOB_NAME=%estimator.latest_training_job.name"
   ]
  },
  {
   "cell_type": "markdown",
   "metadata": {},
   "source": [
    "# Retrieve CloudWatch log events\n",
    "\n",
    "You can retrieve the training logs using `awscli` after this notebook is unblocked. Assuming the job name is stored in an environment variable `TRAIN_JOB_NAME`, run these CLI commands:\n",
    "\n",
    "```bash\n",
    "# Find out the log-stream name; should look like TRAIN_JOB_NAME/xxx.\n",
    "aws logs describe-log-streams \\\n",
    "    --log-group-name /aws/sagemaker/TrainingJobs \\\n",
    "    --log-stream-name-prefix $TRAIN_JOB_NAME \\\n",
    "    | jq -r '.logStreams[].logStreamName'\n",
    "\n",
    "\n",
    "# Get the log events\n",
    "aws logs get-log-events \\\n",
    "    --log-group-name /aws/sagemaker/TrainingJobs \\\n",
    "    --log-stream-name <LOG_STREAM_NAME>\n",
    "```"
   ]
  },
  {
   "cell_type": "markdown",
   "metadata": {},
   "source": [
    "# Optional: Inspect model artifact"
   ]
  },
  {
   "cell_type": "markdown",
   "metadata": {},
   "source": [
    "The model artifact `s3://bucket/sagemaker/train_job_name/output/model.tar.gz` contains the cluster centroids."
   ]
  },
  {
   "cell_type": "code",
   "execution_count": null,
   "metadata": {},
   "outputs": [],
   "source": [
    "import mxnet as mx\n",
    "\n",
    "# Uncomment & modify next line if:\n",
    "# - you want to use another k-means job, or\n",
    "# - you restart the kernel which clears the `train_job_name` variable.\n",
    "#train_job_name = 'xxxx'\n",
    "\n",
    "model_artifact = get_model_tgz(train_job_name, sess.sagemaker_client)\n",
    "%set_env MODEL_ARTIFACT=$model_artifact\n",
    "\n",
    "# Extract model artifact to /tmp\n",
    "!aws s3 cp $MODEL_ARTIFACT - | tar -C /tmp -xzf -\n",
    "\n",
    "# Load & inspect\n",
    "kmeans_model_params = mx.ndarray.load('/tmp/model_algo-1')\n",
    "cluster_centroids = pd.DataFrame(kmeans_model_params[0].asnumpy())\n",
    "\n",
    "print(\n",
    "    f'type(kmeans_model_params) = {type(kmeans_model_params)}',\n",
    "    f'len(kmeans_model_params) = {len(kmeans_model_params)}',\n",
    "    sep='\\n'\n",
    ")\n",
    "for i,o in enumerate(kmeans_model_params):\n",
    "    print(f'type(kmeans_modle_params[{i}]) = {type(o)}')\n",
    "    try:\n",
    "        print('  => shape:', o.shape, end='\\n\\n')\n",
    "    except Exception:\n",
    "        pass\n",
    "\n",
    "cluster_centroids"
   ]
  },
  {
   "cell_type": "markdown",
   "metadata": {},
   "source": [
    "# Batch Transform\n",
    "\n",
    "After training job finishes, we'll assign cluster id to the training data."
   ]
  },
  {
   "cell_type": "markdown",
   "metadata": {},
   "source": [
    "## Register model\n",
    "\n",
    "NOTE: if model name already registered, the old registered model will be untouched."
   ]
  },
  {
   "cell_type": "code",
   "execution_count": null,
   "metadata": {},
   "outputs": [],
   "source": [
    "model = KMeansModel(\n",
    "    model_data=model_artifact,\n",
    "    sagemaker_session=sess,\n",
    "    name='kmeans-screening-1234',\n",
    "    **sm_kwargs.model,\n",
    ")\n",
    "\n",
    "# Create model\n",
    "model._create_sagemaker_model(instance_type='ml.m5.large', tags=sm_kwargs.tags)"
   ]
  },
  {
   "cell_type": "markdown",
   "metadata": {},
   "source": [
    "## Submit Batch-Transform job"
   ]
  },
  {
   "cell_type": "code",
   "execution_count": null,
   "metadata": {},
   "outputs": [],
   "source": [
    "# The S3 input path to batch transform must contain only protobuf file, so we\n",
    "# simply copy all-but-manifest from the input record set (autogenerated prior\n",
    "# training) to a new area.\n",
    "!aws s3 sync \\\n",
    "    s3://...\n",
    "    $S3_SAGEMAKER_PATH/bt/input/ \\\n",
    "    --exclude .amazon.manifest \\\n",
    "    --storage-class ONEZONE_IA\n",
    "\n",
    "# I/O path to S3 MUST have trailing '/'.\n",
    "bt_input_dir = endslash(s3_sagemaker_path + 'bt/input')\n",
    "bt_input_dir = endslash(s3_sagemaker_path + 'bt/output')\n",
    "\n",
    "bt = model.transformer(\n",
    "    instance_count=1,\n",
    "    instance_type='ml.m5.large',\n",
    "    strategy='MultiRecord',\n",
    "    output_path=bt_output_dir,\n",
    "    wait=True,\n",
    "    log=True,\n",
    "    \n",
    "    # https://docs.aws.amazon.com/sagemaker/latest/dg/cdf-inference.html#cm-batch\n",
    "    accept='application/jsonlines',\n",
    "    assemble_with='Line',\n",
    "    \n",
    "    **sm_kwargs.bt,\n",
    ")\n",
    "\n",
    "bt.transform(\n",
    "    data=bt_input_dir,\n",
    "    data_type='S3Prefix',\n",
    "    \n",
    "    # https://docs.aws.amazon.com/sagemaker/latest/dg/cdf-inference#cm-batch\n",
    "    content_type='application/x-recordio-protobuf',\n",
    "    split_type='RecordIO'\n",
    ")"
   ]
  },
  {
   "cell_type": "markdown",
   "metadata": {},
   "source": [
    "## Inspect sample output"
   ]
  },
  {
   "cell_type": "code",
   "execution_count": null,
   "metadata": {},
   "outputs": [],
   "source": [
    "!aws s3 ls $S3_SAGEMAKER_PATH/bt/output/\n",
    "!aws s3 cp $S3_SAGEMAKER_PATH/bt/output/matrix_0.pbr.out - | head"
   ]
  },
  {
   "cell_type": "markdown",
   "metadata": {},
   "source": [
    "## De-register model"
   ]
  },
  {
   "cell_type": "code",
   "execution_count": null,
   "metadata": {},
   "outputs": [],
   "source": [
    "model.delete_model()"
   ]
  }
 ],
 "metadata": {
  "kernelspec": {
   "display_name": "Python 3.8.5 64-bit ('p38')",
   "language": "python",
   "name": "python38564bitp384bb25ce2dca745688e941ae3bfd28569"
  },
  "language_info": {
   "codemirror_mode": {
    "name": "ipython",
    "version": 3
   },
   "file_extension": ".py",
   "mimetype": "text/x-python",
   "name": "python",
   "nbconvert_exporter": "python",
   "pygments_lexer": "ipython3",
   "version": "3.8.5"
  },
  "toc-autonumbering": true
 },
 "nbformat": 4,
 "nbformat_minor": 4
}
