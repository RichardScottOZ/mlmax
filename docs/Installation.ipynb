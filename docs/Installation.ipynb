{
 "cells": [
  {
   "cell_type": "markdown",
   "metadata": {},
   "source": [
    "# Installation"
   ]
  },
  {
   "cell_type": "markdown",
   "metadata": {},
   "source": [
    "After `git clone <url-to-the-repo>`\n",
    "\n",
    "```bash\n",
    "cd mlmax-python\n",
    "```"
   ]
  },
  {
   "cell_type": "markdown",
   "metadata": {},
   "source": [
    "## Data Version Control\n",
    "```bash\n",
    "# https://dvc.org/\n",
    "pip install dvc\n",
    "# opt out dvc analytics\n",
    "dvc config core.analytics false\n",
    "# sync data from remote s3://mlmax-data-repo\n",
    "# make sure your aws-cli has permission to access\n",
    "dvc pull\n",
    "```"
   ]
  },
  {
   "cell_type": "markdown",
   "metadata": {},
   "source": [
    "## Pre-commit\n",
    "```bash\n",
    "# it is a good idea to create and activate a virtualenv here\n",
    "pip install pre-commit\n",
    "pre-commit install\n",
    "# another good idea is update the hooks to the latest version\n",
    "pre-commit autoupdate\n",
    "pre-commit run --all-files\n",
    "```"
   ]
  },
  {
   "cell_type": "markdown",
   "metadata": {},
   "source": [
    "## MLMax\n",
    "```bash\n",
    "pip install -e .\n",
    "```"
   ]
  },
  {
   "cell_type": "markdown",
   "metadata": {},
   "source": [
    "## Documentation\n",
    "```bash\n",
    "python setup.py docs\n",
    "```"
   ]
  },
  {
   "cell_type": "markdown",
   "metadata": {},
   "source": [
    "## Unit Testing\n",
    "```bash\n",
    "python setup.py test\n",
    "```"
   ]
  },
  {
   "cell_type": "markdown",
   "metadata": {},
   "source": [
    "## Build Distribution\n",
    "```bash\n",
    "# source\n",
    "python setup.py sdist\n",
    "# binary\n",
    "python setup.py bdist\n",
    "# wheel (recommended)\n",
    "python setup.py bdist_wheel\n",
    "```"
   ]
  },
  {
   "cell_type": "markdown",
   "metadata": {},
   "source": [
    "## Note\n",
    "\n",
    "This project has been set up using PyScaffold 3.2.3. For details and usage\n",
    "information on PyScaffold see https://pyscaffold.org/.\n",
    "\n",
    "```bash\n",
    "putup mlmax-python -p mlmax -l apache --markdown --dsproject --pre-commit\n",
    "```"
   ]
  }
 ],
 "metadata": {
  "kernelspec": {
   "display_name": "Python 3",
   "language": "python",
   "name": "python3"
  },
  "language_info": {
   "codemirror_mode": {
    "name": "ipython",
    "version": 3
   },
   "file_extension": ".py",
   "mimetype": "text/x-python",
   "name": "python",
   "nbconvert_exporter": "python",
   "pygments_lexer": "ipython3",
   "version": "3.6.10"
  }
 },
 "nbformat": 4,
 "nbformat_minor": 4
}
